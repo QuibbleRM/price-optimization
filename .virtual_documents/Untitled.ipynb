#!/usr/bin/env python
# coding: utf-8
from src.dynapee import PriceModel
from src.datastruct import *
from src.utils import *
import numpy as np
import pandas as pd
import time
from datetime import datetime, timedelta
import abc




mc_factor = pd.read_csv("bookable_search.csv")
def get_mc_factor(calendar_date: str):
            
            
    date_obj = datetime.strptime(calendar_date, "%Y-%m-%d")
    day_of_week = date_obj.strftime("%a")
    month = date_obj.strftime("%B")
    q = f'Month == "{month}" & Day == "{day_of_week}"'
    factor = mc_factor.query(q)
            
    return factor.Bookable_Search.iloc[0]


def optimize_price(dat, choice = 1):
            
    m = dat.copy()
    m['price'] = m.price.astype(str)
    m['price'] = m['price'].str.replace('$', '')
    m['price'] = m['price'].str.replace(',', '')
    mat =  m.iloc[:,:10].values.astype(float)
    dynasaur = PriceModel(market_matrix = mat, coeff = [-0.0062, 0.0003, 0.0879, 0.1106, 0.3239, 0.015, 0.0002, 0.011, 0.42, 0.141], mc = choice)
    res = dynasaur.optimize()
    m["Optimized_Price"] = 0
    i = 0  
    j = "Optimized_Price"
    m.at[i, j] = res[1]
    
    return m


def get_availability_info(listing_ids: list[str], calendar_date: list[str], lag:int = 1):
    
    date_yesterday = (datetime.now() - timedelta(days=lag))
   
    start_of_day = date_yesterday.replace(hour=0, minute=0, second=0)
    end_of_day = date_yesterday.replace(hour=23, minute=59, second=59)

    availability_collection  = merlin_hunter["scrapy_quibble"]["scrapy_availability"]
    availability_match = {
            "listing_id": {"$in": listing_ids},
            "calendarDate": {"$in": calendar_date},
            "minNights": {"$lt": 30},
            "scraped_date": {
                    "$gte": start_of_day,
                    "$lt": end_of_day
                }

        }

  
    availability_query = [
                {
                    "$match": availability_match
                },
                {
                    "$project": {
                        "_id": 0,
                        "id": "$listing_id",
                        "calendarDate": "$calendarDate",
                        "scraped_date": "$scraped_date",
                        "available": "$available",
                        "minNights": "$minNights",
                        "price": { "$ifNull" : [ "$price", 0 ] }
                    }
                }

            ]
    
    availabilities: Iterable[dict] = availability_collection.aggregate(availability_query)

    available_list = []
    
    for _avail in availabilities:

        if not _avail.get('id'):
            continue

        available_list.append(_avail)
        
    return available_list


listing_id = "13278355"
calendar_date = "2023-10-16"
client_property_data = get_property_info([listing_id])[0]
rental_market = ClientProperty(id = client_property_data["listing_id"],competitors = client_property_data["intelCompSet"])

all_ids = []
all_ids.append(client_property_data["listing_id"])
all_ids.extend(client_property_data["intelCompSet"])
all_ids = list(set(all_ids))
print(all_ids)


image_set = get_image_scores(all_ids)
image_set = pd.DataFrame(image_set)
image_scores = image_set.groupby('Listings')['Score'].agg(list).reset_index()
image_scores.columns = ["id","Scores"]
image_scores["Values"] = image_scores.apply(odd_weighted_average, axis=1)
image_scores[['Reference', 'Adjusted', 'Factor']] = image_scores['Values'].apply(lambda x: pd.Series(x))
image_scores = image_scores[["id","Scores","Reference","Adjusted"]]


comp_list = []
[comp_list.append(x) for x in rental_market._competitors]


client_listing = pd.DataFrame(get_listing_info([listing_id]))
competitor_listing = pd.DataFrame(get_listing_info(comp_list))
market_listing = pd.concat([client_listing,competitor_listing],axis = 0)
market_listing["bedrooms"] = pd.to_numeric(market_listing["bedrooms"], errors="coerce").fillna(0).astype(int)
market_listing.rename(columns={'_id': 'listing_hashId'}, inplace=True)
market_listing = parse_scrap_info(market_listing)
market_listing = pd.merge(market_listing,image_scores, on = "id", how = "outer")
market_listing["Reference"].fillna(market_listing["Reference"].mean(),inplace = True)
market_listing["Adjusted"].fillna(market_listing["Adjusted"].mean(),inplace = True)



market_availabilities = pd.DataFrame(get_availability_info(all_ids,[calendar_date],2))
market_listing= pd.merge(market_listing,market_availabilities,on="id", how = 'outer')
market_listing['dist'] = 0


market_data = market_listing[["price","review_count","Adjusted","bedrooms","rating_value","minNights","dist","pool","jacuzzi","landscape_views","available","id","calendarDate","listing_hashId"]]
market_data["mc"] = market_data["calendarDate"].apply(get_mc_factor)


market_data
