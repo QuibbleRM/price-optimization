{
 "cells": [
  {
   "cell_type": "code",
   "execution_count": 1,
   "id": "e9cb8639-c975-49e1-9ed3-c5ad46283d68",
   "metadata": {},
   "outputs": [
    {
     "name": "stderr",
     "output_type": "stream",
     "text": [
      "C:\\Data\\QuibbleRM\\jenkins\\price-optimization\\price_optimization_api.py:172: SettingWithCopyWarning: \n",
      "A value is trying to be set on a copy of a slice from a DataFrame.\n",
      "Try using .loc[row_indexer,col_indexer] = value instead\n",
      "\n",
      "See the caveats in the documentation: https://pandas.pydata.org/pandas-docs/stable/user_guide/indexing.html#returning-a-view-versus-a-copy\n",
      "  market_data[\"mc\"] = market_data[\"calendarDate\"].apply(get_mc_factor)\n"
     ]
    },
    {
     "data": {
      "text/plain": [
       "array([0.67423939, 0.15273917, 0.17302144])"
      ]
     },
     "execution_count": 1,
     "metadata": {},
     "output_type": "execute_result"
    }
   ],
   "source": [
    "#!/usr/bin/env python\n",
    "# coding: utf-8\n",
    "from src.dynapee import PriceModel\n",
    "from src.datastruct import *\n",
    "from src.utils import *\n",
    "from price_optimization_api import *\n",
    "import numpy as np\n",
    "import pandas as pd\n",
    "import time\n",
    "from datetime import datetime, timedelta\n",
    "import abc\n",
    "\n",
    "price_api = PriceAPI()\n",
    "listing_id = \"54338248\"\n",
    "calendar_date = \"2023-10-19\"\n",
    "dummy = PropertyAttribute(100,38,5,4,5,2,0,0,1,0,'54338248')\n",
    "share = price_api.compute_share(dummy,calendar_date)\n",
    "share"
   ]
  },
  {
   "cell_type": "code",
   "execution_count": 2,
   "id": "a104471c-8b22-4e32-bb6f-f914aabfcae8",
   "metadata": {},
   "outputs": [],
   "source": []
  },
  {
   "cell_type": "code",
   "execution_count": 3,
   "id": "69e3a10c-aa0d-4a33-8367-47a594afd553",
   "metadata": {},
   "outputs": [
    {
     "name": "stderr",
     "output_type": "stream",
     "text": [
      "C:\\Data\\QuibbleRM\\jenkins\\price-optimization\\price_optimization_api.py:173: SettingWithCopyWarning: \n",
      "A value is trying to be set on a copy of a slice from a DataFrame.\n",
      "Try using .loc[row_indexer,col_indexer] = value instead\n",
      "\n",
      "See the caveats in the documentation: https://pandas.pydata.org/pandas-docs/stable/user_guide/indexing.html#returning-a-view-versus-a-copy\n",
      "  market_data[\"mc\"] = market_data[\"calendarDate\"].apply(get_mc_factor)\n"
     ]
    }
   ],
   "source": [
    "\n",
    "#results = price_api.optimize_price(listing_id,calendar_date)"
   ]
  },
  {
   "cell_type": "code",
   "execution_count": 4,
   "id": "eed5843f-b600-4bd3-8dbf-03092f1a895f",
   "metadata": {},
   "outputs": [
    {
     "data": {
      "text/html": [
       "<div>\n",
       "<style scoped>\n",
       "    .dataframe tbody tr th:only-of-type {\n",
       "        vertical-align: middle;\n",
       "    }\n",
       "\n",
       "    .dataframe tbody tr th {\n",
       "        vertical-align: top;\n",
       "    }\n",
       "\n",
       "    .dataframe thead th {\n",
       "        text-align: right;\n",
       "    }\n",
       "</style>\n",
       "<table border=\"1\" class=\"dataframe\">\n",
       "  <thead>\n",
       "    <tr style=\"text-align: right;\">\n",
       "      <th></th>\n",
       "      <th>price</th>\n",
       "      <th>review_count</th>\n",
       "      <th>Adjusted</th>\n",
       "      <th>bedrooms</th>\n",
       "      <th>rating_value</th>\n",
       "      <th>minNights</th>\n",
       "      <th>dist</th>\n",
       "      <th>pool</th>\n",
       "      <th>jacuzzi</th>\n",
       "      <th>landscape_views</th>\n",
       "      <th>id</th>\n",
       "      <th>available</th>\n",
       "      <th>calendarDate</th>\n",
       "      <th>listing_hashId</th>\n",
       "      <th>mc</th>\n",
       "      <th>ToOptimize</th>\n",
       "      <th>Optimized_Price</th>\n",
       "    </tr>\n",
       "  </thead>\n",
       "  <tbody>\n",
       "    <tr>\n",
       "      <th>0</th>\n",
       "      <td>0</td>\n",
       "      <td>38</td>\n",
       "      <td>4.984420</td>\n",
       "      <td>4</td>\n",
       "      <td>5.00</td>\n",
       "      <td>2</td>\n",
       "      <td>0</td>\n",
       "      <td>0</td>\n",
       "      <td>1</td>\n",
       "      <td>0</td>\n",
       "      <td>54338248</td>\n",
       "      <td>False</td>\n",
       "      <td>2023-10-19</td>\n",
       "      <td>63b8d8a3743bd2fd6c76658c</td>\n",
       "      <td>6.612567</td>\n",
       "      <td>1</td>\n",
       "      <td>432.216193</td>\n",
       "    </tr>\n",
       "    <tr>\n",
       "      <th>4</th>\n",
       "      <td>266</td>\n",
       "      <td>19</td>\n",
       "      <td>5.178765</td>\n",
       "      <td>4</td>\n",
       "      <td>4.47</td>\n",
       "      <td>1</td>\n",
       "      <td>0</td>\n",
       "      <td>0</td>\n",
       "      <td>0</td>\n",
       "      <td>1</td>\n",
       "      <td>51235365</td>\n",
       "      <td>True</td>\n",
       "      <td>2023-10-19</td>\n",
       "      <td>62b0d382b18efee00cd47374</td>\n",
       "      <td>6.612567</td>\n",
       "      <td>0</td>\n",
       "      <td>0.000000</td>\n",
       "    </tr>\n",
       "    <tr>\n",
       "      <th>5</th>\n",
       "      <td>308</td>\n",
       "      <td>6</td>\n",
       "      <td>4.477023</td>\n",
       "      <td>4</td>\n",
       "      <td>5.00</td>\n",
       "      <td>1</td>\n",
       "      <td>0</td>\n",
       "      <td>0</td>\n",
       "      <td>1</td>\n",
       "      <td>0</td>\n",
       "      <td>53172716</td>\n",
       "      <td>True</td>\n",
       "      <td>2023-10-19</td>\n",
       "      <td>62b0d629b18efee00cd477c4</td>\n",
       "      <td>6.612567</td>\n",
       "      <td>0</td>\n",
       "      <td>0.000000</td>\n",
       "    </tr>\n",
       "  </tbody>\n",
       "</table>\n",
       "</div>"
      ],
      "text/plain": [
       "  price review_count  Adjusted  bedrooms  rating_value  minNights  dist  pool  \\\n",
       "0     0           38  4.984420         4          5.00          2     0     0   \n",
       "4   266           19  5.178765         4          4.47          1     0     0   \n",
       "5   308            6  4.477023         4          5.00          1     0     0   \n",
       "\n",
       "   jacuzzi  landscape_views        id  available calendarDate  \\\n",
       "0        1                0  54338248      False   2023-10-19   \n",
       "4        0                1  51235365       True   2023-10-19   \n",
       "5        1                0  53172716       True   2023-10-19   \n",
       "\n",
       "             listing_hashId        mc  ToOptimize  Optimized_Price  \n",
       "0  63b8d8a3743bd2fd6c76658c  6.612567           1       432.216193  \n",
       "4  62b0d382b18efee00cd47374  6.612567           0         0.000000  \n",
       "5  62b0d629b18efee00cd477c4  6.612567           0         0.000000  "
      ]
     },
     "execution_count": 4,
     "metadata": {},
     "output_type": "execute_result"
    }
   ],
   "source": [
    "results"
   ]
  },
  {
   "cell_type": "code",
   "execution_count": 5,
   "id": "10b7451b-24ab-4e7c-9dc0-5570fd438db0",
   "metadata": {},
   "outputs": [
    {
     "name": "stdout",
     "output_type": "stream",
     "text": [
      "[[100.          38.           5.           4.           5.\n",
      "    2.           0.           0.           1.           0.        ]\n",
      " [266.          19.           5.17876514   4.           4.47\n",
      "    1.           0.           0.           0.           1.        ]\n",
      " [308.           6.           4.47702301   4.           5.\n",
      "    1.           0.           0.           1.           0.        ]]\n"
     ]
    },
    {
     "name": "stderr",
     "output_type": "stream",
     "text": [
      "C:\\Data\\QuibbleRM\\jenkins\\price-optimization\\price_optimization_api.py:173: SettingWithCopyWarning: \n",
      "A value is trying to be set on a copy of a slice from a DataFrame.\n",
      "Try using .loc[row_indexer,col_indexer] = value instead\n",
      "\n",
      "See the caveats in the documentation: https://pandas.pydata.org/pandas-docs/stable/user_guide/indexing.html#returning-a-view-versus-a-copy\n",
      "  market_data[\"mc\"] = market_data[\"calendarDate\"].apply(get_mc_factor)\n"
     ]
    },
    {
     "data": {
      "text/plain": [
       "0"
      ]
     },
     "execution_count": 5,
     "metadata": {},
     "output_type": "execute_result"
    }
   ],
   "source": []
  },
  {
   "cell_type": "code",
   "execution_count": 7,
   "id": "9b215501-370d-40fb-883a-0040c79338a8",
   "metadata": {},
   "outputs": [
    {
     "data": {
      "text/plain": [
       "0"
      ]
     },
     "execution_count": 7,
     "metadata": {},
     "output_type": "execute_result"
    }
   ],
   "source": [
    "share"
   ]
  },
  {
   "cell_type": "code",
   "execution_count": 2,
   "id": "27ba8271-9247-4d70-8e17-e95bfe50e6e0",
   "metadata": {},
   "outputs": [],
   "source": [
    "mc_factor = pd.read_csv(\"bookable_search.csv\")\n",
    "def get_mc_factor(calendar_date: str):\n",
    "            \n",
    "            \n",
    "    date_obj = datetime.strptime(calendar_date, \"%Y-%m-%d\")\n",
    "    day_of_week = date_obj.strftime(\"%a\")\n",
    "    month = date_obj.strftime(\"%B\")\n",
    "    q = f'Month == \"{month}\" & Day == \"{day_of_week}\"'\n",
    "    factor = mc_factor.query(q)\n",
    "            \n",
    "    return factor.Bookable_Search.iloc[0]"
   ]
  },
  {
   "cell_type": "code",
   "execution_count": 3,
   "id": "8707962d-dac5-4a30-bd2f-3089b766ff72",
   "metadata": {},
   "outputs": [],
   "source": [
    "def optimize_price(dat, choice = 1):\n",
    "            \n",
    "    m = dat.copy()\n",
    "    m['price'] = m.price.astype(str)\n",
    "    m['price'] = m['price'].str.replace('$', '')\n",
    "    m['price'] = m['price'].str.replace(',', '')\n",
    "    mat =  m.iloc[:,:10].values.astype(float)\n",
    "    dynasaur = PriceModel(market_matrix = mat, coeff = [-0.0062, 0.0003, 0.0879, 0.1106, 0.3239, 0.015, 0.0002, 0.011, 0.42, 0.141], mc = choice)\n",
    "    res = dynasaur.optimize()\n",
    "    m[\"Optimized_Price\"] = 0\n",
    "    i = 0  \n",
    "    j = \"Optimized_Price\"\n",
    "    m.at[i, j] = res[1]\n",
    "    \n",
    "    return m"
   ]
  },
  {
   "cell_type": "code",
   "execution_count": 4,
   "id": "3df380a8-5034-4ed6-8229-416e01f32d1c",
   "metadata": {},
   "outputs": [],
   "source": [
    "def get_availability_info(listing_ids: list[str], calendar_date: list[str], lag:int = 1):\n",
    "    \n",
    "    date_yesterday = (datetime.now() - timedelta(days=lag))\n",
    "   \n",
    "    start_of_day = date_yesterday.replace(hour=0, minute=0, second=0)\n",
    "    end_of_day = date_yesterday.replace(hour=23, minute=59, second=59)\n",
    "\n",
    "    availability_collection  = merlin_hunter[\"scrapy_quibble\"][\"scrapy_availability\"]\n",
    "    availability_match = {\n",
    "            \"listing_id\": {\"$in\": listing_ids},\n",
    "            \"calendarDate\": {\"$in\": calendar_date},\n",
    "            \"minNights\": {\"$lt\": 30},\n",
    "            \"scraped_date\": {\n",
    "                    \"$gte\": start_of_day,\n",
    "                    \"$lt\": end_of_day\n",
    "                }\n",
    "\n",
    "        }\n",
    "\n",
    "  \n",
    "    availability_query = [\n",
    "                {\n",
    "                    \"$match\": availability_match\n",
    "                },\n",
    "                {\n",
    "                    \"$project\": {\n",
    "                        \"_id\": 0,\n",
    "                        \"id\": \"$listing_id\",\n",
    "                        \"calendarDate\": \"$calendarDate\",\n",
    "                        \"scraped_date\": \"$scraped_date\",\n",
    "                        \"available\": \"$available\",\n",
    "                        \"minNights\": \"$minNights\",\n",
    "                        \"price\": { \"$ifNull\" : [ \"$price\", 0 ] }\n",
    "                    }\n",
    "                }\n",
    "\n",
    "            ]\n",
    "    \n",
    "    availabilities: Iterable[dict] = availability_collection.aggregate(availability_query)\n",
    "\n",
    "    available_list = []\n",
    "    \n",
    "    for _avail in availabilities:\n",
    "\n",
    "        if not _avail.get('id'):\n",
    "            continue\n",
    "\n",
    "        available_list.append(_avail)\n",
    "        \n",
    "    return available_list"
   ]
  },
  {
   "cell_type": "code",
   "execution_count": 5,
   "id": "d0294ce9-3a47-48a3-b892-6123edabad19",
   "metadata": {},
   "outputs": [
    {
     "name": "stdout",
     "output_type": "stream",
     "text": [
      "['43141319', '617961959918601179', '51765332', '26000178', '51235365', '50661163', '53172716', '38027584', '54338248', '634847614835309408', '26427218']\n"
     ]
    }
   ],
   "source": [
    "listing_id = \"54338248\"\n",
    "calendar_date = \"2023-10-19\"\n",
    "client_property_data = get_property_info([listing_id])[0]\n",
    "rental_market = ClientProperty(id = client_property_data[\"listing_id\"],competitors = client_property_data[\"intelCompSet\"])\n",
    "\n",
    "all_ids = []\n",
    "all_ids.append(client_property_data[\"listing_id\"])\n",
    "all_ids.extend(client_property_data[\"intelCompSet\"])\n",
    "all_ids = list(set(all_ids))\n",
    "print(all_ids)"
   ]
  },
  {
   "cell_type": "code",
   "execution_count": 6,
   "id": "691a2211-f71a-4727-972c-6b66861ef407",
   "metadata": {},
   "outputs": [],
   "source": [
    "image_set = get_image_scores(all_ids)\n",
    "image_set = pd.DataFrame(image_set)\n",
    "image_scores = image_set.groupby('Listings')['Score'].agg(list).reset_index()\n",
    "image_scores.columns = [\"id\",\"Scores\"]\n",
    "image_scores[\"Values\"] = image_scores.apply(odd_weighted_average, axis=1)\n",
    "image_scores[['Reference', 'Adjusted', 'Factor']] = image_scores['Values'].apply(lambda x: pd.Series(x))\n",
    "image_scores = image_scores[[\"id\",\"Scores\",\"Reference\",\"Adjusted\"]]"
   ]
  },
  {
   "cell_type": "code",
   "execution_count": 7,
   "id": "8e18a033-be66-4c86-8cf9-af9daf6e81af",
   "metadata": {},
   "outputs": [],
   "source": [
    "comp_list = []\n",
    "[comp_list.append(x) for x in rental_market._competitors]\n",
    "\n",
    "\n",
    "client_listing = pd.DataFrame(get_listing_info([listing_id]))\n",
    "competitor_listing = pd.DataFrame(get_listing_info(comp_list))\n",
    "market_listing = pd.concat([client_listing,competitor_listing],axis = 0)\n",
    "market_listing[\"bedrooms\"] = pd.to_numeric(market_listing[\"bedrooms\"], errors=\"coerce\").fillna(0).astype(int)\n",
    "market_listing.rename(columns={'_id': 'listing_hashId'}, inplace=True)\n",
    "market_listing = parse_scrap_info(market_listing)\n",
    "market_listing = pd.merge(market_listing,image_scores, on = \"id\", how = \"outer\")\n",
    "market_listing[\"Reference\"].fillna(market_listing[\"Reference\"].mean(),inplace = True)\n",
    "market_listing[\"Adjusted\"].fillna(market_listing[\"Adjusted\"].mean(),inplace = True)\n"
   ]
  },
  {
   "cell_type": "code",
   "execution_count": 8,
   "id": "29fa754b-353d-42f6-8d0f-8e3a196fab70",
   "metadata": {},
   "outputs": [],
   "source": [
    "market_availabilities = pd.DataFrame(get_availability_info(all_ids,[calendar_date],1))\n"
   ]
  },
  {
   "cell_type": "code",
   "execution_count": 9,
   "id": "1fc87a1f-c64d-43ae-80be-7b03ee42a5b2",
   "metadata": {},
   "outputs": [
    {
     "data": {
      "text/plain": [
       "0    2023-10-19\n",
       "1    2023-10-19\n",
       "2    2023-10-19\n",
       "3    2023-10-19\n",
       "4    2023-10-19\n",
       "5    2023-10-19\n",
       "6    2023-10-19\n",
       "7    2023-10-19\n",
       "Name: calendarDate, dtype: object"
      ]
     },
     "execution_count": 9,
     "metadata": {},
     "output_type": "execute_result"
    }
   ],
   "source": [
    "market_availabilities.calendarDate"
   ]
  },
  {
   "cell_type": "code",
   "execution_count": 10,
   "id": "d8f453ea-5ef8-4de3-86bb-6d6c433ba9c7",
   "metadata": {},
   "outputs": [],
   "source": [
    "market_listing= pd.merge(market_listing,market_availabilities,on=\"id\", how = 'inner')\n",
    "market_listing['dist'] = 0"
   ]
  },
  {
   "cell_type": "code",
   "execution_count": 23,
   "id": "1850d7fb-b231-4a1c-b7cb-cfe691d5fbc8",
   "metadata": {},
   "outputs": [],
   "source": [
    "market_data = market_listing[[\"price\",\"review_count\",\"Adjusted\",\"bedrooms\",\"rating_value\",\"minNights\",\"dist\",\"pool\",\"jacuzzi\",\"landscape_views\",\"id\",\"available\",\"calendarDate\",\"listing_hashId\"]]\n"
   ]
  },
  {
   "cell_type": "code",
   "execution_count": 24,
   "id": "6e374d99-9286-4137-8801-50a0e6816789",
   "metadata": {},
   "outputs": [
    {
     "name": "stderr",
     "output_type": "stream",
     "text": [
      "C:\\Users\\rosen\\AppData\\Local\\Temp\\ipykernel_17384\\1779695634.py:1: SettingWithCopyWarning: \n",
      "A value is trying to be set on a copy of a slice from a DataFrame.\n",
      "Try using .loc[row_indexer,col_indexer] = value instead\n",
      "\n",
      "See the caveats in the documentation: https://pandas.pydata.org/pandas-docs/stable/user_guide/indexing.html#returning-a-view-versus-a-copy\n",
      "  market_data[\"mc\"] = market_data[\"calendarDate\"].apply(get_mc_factor)\n"
     ]
    }
   ],
   "source": [
    "market_data[\"mc\"] = market_data[\"calendarDate\"].apply(get_mc_factor)"
   ]
  },
  {
   "cell_type": "code",
   "execution_count": 25,
   "id": "9e57650c-d933-41d3-8758-c4c67ebd4305",
   "metadata": {},
   "outputs": [],
   "source": [
    "market_data = market_data.drop_duplicates(subset = ['id'])"
   ]
  },
  {
   "cell_type": "code",
   "execution_count": 26,
   "id": "023e1b84-efb2-42d5-99df-5989c420bb69",
   "metadata": {},
   "outputs": [],
   "source": [
    "market_data[\"ToOptimize\"] = market_data['id'].apply(lambda x: 1 if str(x) == str(rental_market._id) else 0)"
   ]
  },
  {
   "cell_type": "code",
   "execution_count": 27,
   "id": "444b9136-4a15-41b0-8611-68bf789f247a",
   "metadata": {},
   "outputs": [],
   "source": [
    "market_data = market_data.query('available == True or ToOptimize == 1')"
   ]
  },
  {
   "cell_type": "code",
   "execution_count": 28,
   "id": "8412ee3a-757f-4602-810a-467ca249d853",
   "metadata": {},
   "outputs": [],
   "source": [
    "market_data = market_data.sort_values(by = 'ToOptimize', ascending = False)"
   ]
  },
  {
   "cell_type": "code",
   "execution_count": 31,
   "id": "fd7dd68d-b6a6-45f5-9ca3-e72ae5b5ced6",
   "metadata": {
    "scrolled": true
   },
   "outputs": [
    {
     "data": {
      "text/html": [
       "<div>\n",
       "<style scoped>\n",
       "    .dataframe tbody tr th:only-of-type {\n",
       "        vertical-align: middle;\n",
       "    }\n",
       "\n",
       "    .dataframe tbody tr th {\n",
       "        vertical-align: top;\n",
       "    }\n",
       "\n",
       "    .dataframe thead th {\n",
       "        text-align: right;\n",
       "    }\n",
       "</style>\n",
       "<table border=\"1\" class=\"dataframe\">\n",
       "  <thead>\n",
       "    <tr style=\"text-align: right;\">\n",
       "      <th></th>\n",
       "      <th>price</th>\n",
       "      <th>review_count</th>\n",
       "      <th>Adjusted</th>\n",
       "      <th>bedrooms</th>\n",
       "      <th>rating_value</th>\n",
       "      <th>minNights</th>\n",
       "      <th>dist</th>\n",
       "      <th>pool</th>\n",
       "      <th>jacuzzi</th>\n",
       "      <th>landscape_views</th>\n",
       "      <th>id</th>\n",
       "      <th>available</th>\n",
       "      <th>calendarDate</th>\n",
       "      <th>listing_hashId</th>\n",
       "      <th>mc</th>\n",
       "      <th>ToOptimize</th>\n",
       "    </tr>\n",
       "  </thead>\n",
       "  <tbody>\n",
       "    <tr>\n",
       "      <th>0</th>\n",
       "      <td>0</td>\n",
       "      <td>38</td>\n",
       "      <td>4.984420</td>\n",
       "      <td>4</td>\n",
       "      <td>5.00</td>\n",
       "      <td>2</td>\n",
       "      <td>0</td>\n",
       "      <td>0</td>\n",
       "      <td>1</td>\n",
       "      <td>0</td>\n",
       "      <td>54338248</td>\n",
       "      <td>False</td>\n",
       "      <td>2023-10-19</td>\n",
       "      <td>63b8d8a3743bd2fd6c76658c</td>\n",
       "      <td>6.612567</td>\n",
       "      <td>1</td>\n",
       "    </tr>\n",
       "    <tr>\n",
       "      <th>4</th>\n",
       "      <td>$266</td>\n",
       "      <td>19</td>\n",
       "      <td>5.178765</td>\n",
       "      <td>4</td>\n",
       "      <td>4.47</td>\n",
       "      <td>1</td>\n",
       "      <td>0</td>\n",
       "      <td>0</td>\n",
       "      <td>0</td>\n",
       "      <td>1</td>\n",
       "      <td>51235365</td>\n",
       "      <td>True</td>\n",
       "      <td>2023-10-19</td>\n",
       "      <td>62b0d382b18efee00cd47374</td>\n",
       "      <td>6.612567</td>\n",
       "      <td>0</td>\n",
       "    </tr>\n",
       "    <tr>\n",
       "      <th>5</th>\n",
       "      <td>$308</td>\n",
       "      <td>6</td>\n",
       "      <td>4.477023</td>\n",
       "      <td>4</td>\n",
       "      <td>5.00</td>\n",
       "      <td>1</td>\n",
       "      <td>0</td>\n",
       "      <td>0</td>\n",
       "      <td>1</td>\n",
       "      <td>0</td>\n",
       "      <td>53172716</td>\n",
       "      <td>True</td>\n",
       "      <td>2023-10-19</td>\n",
       "      <td>62b0d629b18efee00cd477c4</td>\n",
       "      <td>6.612567</td>\n",
       "      <td>0</td>\n",
       "    </tr>\n",
       "  </tbody>\n",
       "</table>\n",
       "</div>"
      ],
      "text/plain": [
       "  price review_count  Adjusted  bedrooms  rating_value  minNights  dist  pool  \\\n",
       "0     0           38  4.984420         4          5.00          2     0     0   \n",
       "4  $266           19  5.178765         4          4.47          1     0     0   \n",
       "5  $308            6  4.477023         4          5.00          1     0     0   \n",
       "\n",
       "   jacuzzi  landscape_views        id  available calendarDate  \\\n",
       "0        1                0  54338248      False   2023-10-19   \n",
       "4        0                1  51235365       True   2023-10-19   \n",
       "5        1                0  53172716       True   2023-10-19   \n",
       "\n",
       "             listing_hashId        mc  ToOptimize  \n",
       "0  63b8d8a3743bd2fd6c76658c  6.612567           1  \n",
       "4  62b0d382b18efee00cd47374  6.612567           0  \n",
       "5  62b0d629b18efee00cd477c4  6.612567           0  "
      ]
     },
     "execution_count": 31,
     "metadata": {},
     "output_type": "execute_result"
    }
   ],
   "source": [
    "market_data"
   ]
  },
  {
   "cell_type": "code",
   "execution_count": 33,
   "id": "78e6fd20-0b3d-4dd4-bb01-b5e4a355dc7f",
   "metadata": {
    "jupyter": {
     "source_hidden": true
    }
   },
   "outputs": [],
   "source": [
    "class PropertyAttribute:\n",
    "\n",
    "    \n",
    "    _price = 0\n",
    "    _review_count = 0\n",
    "    _image_score = 0\n",
    "    _bedroom = 0\n",
    "    _rating_value = 0\n",
    "    _min_stay = 0\n",
    "    _distance = 0\n",
    "    _pool = 0\n",
    "    _jacuzzi = 0\n",
    "    _landscape_views = 0\n",
    "    _id = 0\n",
    "\n",
    "    def __init__(self,price,review_count,image_score,bedroom,rating_value,min_stay,distance,pool,jacuzzi,landscape_views,id):\n",
    "\n",
    "        self._price = price\n",
    "        self._review_count = review_count\n",
    "        self._image_score = image_score\n",
    "        self._bedroom = bedroom\n",
    "        self._rating_value = rating_value\n",
    "        self._min_stay = min_stay\n",
    "        self._distance = distance\n",
    "        self._pool = pool\n",
    "        self._jacuzzi = jacuzzi\n",
    "        self._landscape_views = landscape_views\n",
    "        self._id = id"
   ]
  },
  {
   "cell_type": "code",
   "execution_count": 36,
   "id": "d125cb57-a71a-4575-89fd-5d6be8849ac4",
   "metadata": {},
   "outputs": [],
   "source": [
    "dummy = PropertyAttribute(100,38,5,4,5,2,0,0,1,0,'54338248')"
   ]
  },
  {
   "cell_type": "code",
   "execution_count": 37,
   "id": "8fc962be-67e4-4ac5-a34e-1edfe5c08849",
   "metadata": {},
   "outputs": [],
   "source": [
    "def instance_to_array(instance):\n",
    "    return [value for key, value in instance.__dict__.items()]"
   ]
  },
  {
   "cell_type": "code",
   "execution_count": 39,
   "id": "56e0a5d2-888a-43dd-884b-524337902217",
   "metadata": {},
   "outputs": [],
   "source": [
    "df = market_data.copy()"
   ]
  },
  {
   "cell_type": "code",
   "execution_count": 45,
   "id": "a6be596d-f71c-47c7-ad4b-c5608e01214d",
   "metadata": {},
   "outputs": [
    {
     "data": {
      "text/plain": [
       "[100, 38, 5, 4, 5, 2, 0, 0, 1, 0, '54338248']"
      ]
     },
     "execution_count": 45,
     "metadata": {},
     "output_type": "execute_result"
    }
   ],
   "source": [
    "instance_to_array(dummy)"
   ]
  },
  {
   "cell_type": "code",
   "execution_count": 48,
   "id": "5d789bf9-d471-4136-958b-4923c185f327",
   "metadata": {},
   "outputs": [],
   "source": [
    "df.iloc[0, 0:11] = instance_to_array(dummy)"
   ]
  },
  {
   "cell_type": "code",
   "execution_count": 49,
   "id": "ab011725-e4d3-4583-ae5b-4aa5ee362802",
   "metadata": {},
   "outputs": [
    {
     "data": {
      "text/html": [
       "<div>\n",
       "<style scoped>\n",
       "    .dataframe tbody tr th:only-of-type {\n",
       "        vertical-align: middle;\n",
       "    }\n",
       "\n",
       "    .dataframe tbody tr th {\n",
       "        vertical-align: top;\n",
       "    }\n",
       "\n",
       "    .dataframe thead th {\n",
       "        text-align: right;\n",
       "    }\n",
       "</style>\n",
       "<table border=\"1\" class=\"dataframe\">\n",
       "  <thead>\n",
       "    <tr style=\"text-align: right;\">\n",
       "      <th></th>\n",
       "      <th>price</th>\n",
       "      <th>review_count</th>\n",
       "      <th>Adjusted</th>\n",
       "      <th>bedrooms</th>\n",
       "      <th>rating_value</th>\n",
       "      <th>minNights</th>\n",
       "      <th>dist</th>\n",
       "      <th>pool</th>\n",
       "      <th>jacuzzi</th>\n",
       "      <th>landscape_views</th>\n",
       "      <th>id</th>\n",
       "      <th>available</th>\n",
       "      <th>calendarDate</th>\n",
       "      <th>listing_hashId</th>\n",
       "      <th>mc</th>\n",
       "      <th>ToOptimize</th>\n",
       "    </tr>\n",
       "  </thead>\n",
       "  <tbody>\n",
       "    <tr>\n",
       "      <th>0</th>\n",
       "      <td>100</td>\n",
       "      <td>38</td>\n",
       "      <td>5.000000</td>\n",
       "      <td>4</td>\n",
       "      <td>5.00</td>\n",
       "      <td>2</td>\n",
       "      <td>0</td>\n",
       "      <td>0</td>\n",
       "      <td>1</td>\n",
       "      <td>0</td>\n",
       "      <td>54338248</td>\n",
       "      <td>False</td>\n",
       "      <td>2023-10-19</td>\n",
       "      <td>63b8d8a3743bd2fd6c76658c</td>\n",
       "      <td>6.612567</td>\n",
       "      <td>1</td>\n",
       "    </tr>\n",
       "    <tr>\n",
       "      <th>4</th>\n",
       "      <td>$266</td>\n",
       "      <td>19</td>\n",
       "      <td>5.178765</td>\n",
       "      <td>4</td>\n",
       "      <td>4.47</td>\n",
       "      <td>1</td>\n",
       "      <td>0</td>\n",
       "      <td>0</td>\n",
       "      <td>0</td>\n",
       "      <td>1</td>\n",
       "      <td>51235365</td>\n",
       "      <td>True</td>\n",
       "      <td>2023-10-19</td>\n",
       "      <td>62b0d382b18efee00cd47374</td>\n",
       "      <td>6.612567</td>\n",
       "      <td>0</td>\n",
       "    </tr>\n",
       "    <tr>\n",
       "      <th>5</th>\n",
       "      <td>$308</td>\n",
       "      <td>6</td>\n",
       "      <td>4.477023</td>\n",
       "      <td>4</td>\n",
       "      <td>5.00</td>\n",
       "      <td>1</td>\n",
       "      <td>0</td>\n",
       "      <td>0</td>\n",
       "      <td>1</td>\n",
       "      <td>0</td>\n",
       "      <td>53172716</td>\n",
       "      <td>True</td>\n",
       "      <td>2023-10-19</td>\n",
       "      <td>62b0d629b18efee00cd477c4</td>\n",
       "      <td>6.612567</td>\n",
       "      <td>0</td>\n",
       "    </tr>\n",
       "  </tbody>\n",
       "</table>\n",
       "</div>"
      ],
      "text/plain": [
       "  price review_count  Adjusted  bedrooms  rating_value  minNights  dist  pool  \\\n",
       "0   100           38  5.000000         4          5.00          2     0     0   \n",
       "4  $266           19  5.178765         4          4.47          1     0     0   \n",
       "5  $308            6  4.477023         4          5.00          1     0     0   \n",
       "\n",
       "   jacuzzi  landscape_views        id  available calendarDate  \\\n",
       "0        1                0  54338248      False   2023-10-19   \n",
       "4        0                1  51235365       True   2023-10-19   \n",
       "5        1                0  53172716       True   2023-10-19   \n",
       "\n",
       "             listing_hashId        mc  ToOptimize  \n",
       "0  63b8d8a3743bd2fd6c76658c  6.612567           1  \n",
       "4  62b0d382b18efee00cd47374  6.612567           0  \n",
       "5  62b0d629b18efee00cd477c4  6.612567           0  "
      ]
     },
     "execution_count": 49,
     "metadata": {},
     "output_type": "execute_result"
    }
   ],
   "source": [
    "df"
   ]
  },
  {
   "cell_type": "code",
   "execution_count": 25,
   "id": "87afaf6d-3d68-45e3-a146-3449d57ab5af",
   "metadata": {},
   "outputs": [],
   "source": [
    "to_optimize = (market_data['ToOptimize'] == 1).any()"
   ]
  },
  {
   "cell_type": "code",
   "execution_count": 26,
   "id": "7feab32e-871f-4725-bc38-666b69e756ed",
   "metadata": {},
   "outputs": [
    {
     "data": {
      "text/plain": [
       "True"
      ]
     },
     "execution_count": 26,
     "metadata": {},
     "output_type": "execute_result"
    }
   ],
   "source": [
    "to_optimize"
   ]
  },
  {
   "cell_type": "code",
   "execution_count": 27,
   "id": "107df15b-0d1c-4cc9-96f1-41403384a279",
   "metadata": {},
   "outputs": [],
   "source": [
    "num_comp = market_data.shape[0]"
   ]
  },
  {
   "cell_type": "code",
   "execution_count": 28,
   "id": "77b50dca-0d77-49d9-a6d5-912d118fa910",
   "metadata": {},
   "outputs": [
    {
     "data": {
      "text/plain": [
       "3"
      ]
     },
     "execution_count": 28,
     "metadata": {},
     "output_type": "execute_result"
    }
   ],
   "source": [
    "num_comp"
   ]
  },
  {
   "cell_type": "code",
   "execution_count": 32,
   "id": "d616861e-3e3c-4382-8ce8-de214ed5a0cb",
   "metadata": {},
   "outputs": [],
   "source": [
    "i = float(market_data.iloc[0][\"mc\"])\n",
    "optim = optimize_price(market_data,i)"
   ]
  },
  {
   "cell_type": "code",
   "execution_count": 33,
   "id": "c03f2a6e-d6ad-4ee4-96c9-aa6ce1b4bdc9",
   "metadata": {},
   "outputs": [
    {
     "data": {
      "text/html": [
       "<div>\n",
       "<style scoped>\n",
       "    .dataframe tbody tr th:only-of-type {\n",
       "        vertical-align: middle;\n",
       "    }\n",
       "\n",
       "    .dataframe tbody tr th {\n",
       "        vertical-align: top;\n",
       "    }\n",
       "\n",
       "    .dataframe thead th {\n",
       "        text-align: right;\n",
       "    }\n",
       "</style>\n",
       "<table border=\"1\" class=\"dataframe\">\n",
       "  <thead>\n",
       "    <tr style=\"text-align: right;\">\n",
       "      <th></th>\n",
       "      <th>price</th>\n",
       "      <th>review_count</th>\n",
       "      <th>Adjusted</th>\n",
       "      <th>bedrooms</th>\n",
       "      <th>rating_value</th>\n",
       "      <th>minNights</th>\n",
       "      <th>dist</th>\n",
       "      <th>pool</th>\n",
       "      <th>jacuzzi</th>\n",
       "      <th>landscape_views</th>\n",
       "      <th>available</th>\n",
       "      <th>id</th>\n",
       "      <th>calendarDate</th>\n",
       "      <th>listing_hashId</th>\n",
       "      <th>mc</th>\n",
       "      <th>ToOptimize</th>\n",
       "      <th>Optimized_Price</th>\n",
       "    </tr>\n",
       "  </thead>\n",
       "  <tbody>\n",
       "    <tr>\n",
       "      <th>0</th>\n",
       "      <td>0</td>\n",
       "      <td>38</td>\n",
       "      <td>4.984420</td>\n",
       "      <td>4</td>\n",
       "      <td>5.00</td>\n",
       "      <td>2</td>\n",
       "      <td>0</td>\n",
       "      <td>0</td>\n",
       "      <td>1</td>\n",
       "      <td>0</td>\n",
       "      <td>False</td>\n",
       "      <td>54338248</td>\n",
       "      <td>2023-10-19</td>\n",
       "      <td>63b8d8a3743bd2fd6c76658c</td>\n",
       "      <td>6.612567</td>\n",
       "      <td>1</td>\n",
       "      <td>432.216193</td>\n",
       "    </tr>\n",
       "    <tr>\n",
       "      <th>4</th>\n",
       "      <td>266</td>\n",
       "      <td>19</td>\n",
       "      <td>5.178765</td>\n",
       "      <td>4</td>\n",
       "      <td>4.47</td>\n",
       "      <td>1</td>\n",
       "      <td>0</td>\n",
       "      <td>0</td>\n",
       "      <td>0</td>\n",
       "      <td>1</td>\n",
       "      <td>True</td>\n",
       "      <td>51235365</td>\n",
       "      <td>2023-10-19</td>\n",
       "      <td>62b0d382b18efee00cd47374</td>\n",
       "      <td>6.612567</td>\n",
       "      <td>0</td>\n",
       "      <td>0.000000</td>\n",
       "    </tr>\n",
       "    <tr>\n",
       "      <th>5</th>\n",
       "      <td>308</td>\n",
       "      <td>6</td>\n",
       "      <td>4.477023</td>\n",
       "      <td>4</td>\n",
       "      <td>5.00</td>\n",
       "      <td>1</td>\n",
       "      <td>0</td>\n",
       "      <td>0</td>\n",
       "      <td>1</td>\n",
       "      <td>0</td>\n",
       "      <td>True</td>\n",
       "      <td>53172716</td>\n",
       "      <td>2023-10-19</td>\n",
       "      <td>62b0d629b18efee00cd477c4</td>\n",
       "      <td>6.612567</td>\n",
       "      <td>0</td>\n",
       "      <td>0.000000</td>\n",
       "    </tr>\n",
       "  </tbody>\n",
       "</table>\n",
       "</div>"
      ],
      "text/plain": [
       "  price review_count  Adjusted  bedrooms  rating_value  minNights  dist  pool  \\\n",
       "0     0           38  4.984420         4          5.00          2     0     0   \n",
       "4   266           19  5.178765         4          4.47          1     0     0   \n",
       "5   308            6  4.477023         4          5.00          1     0     0   \n",
       "\n",
       "   jacuzzi  landscape_views  available        id calendarDate  \\\n",
       "0        1                0      False  54338248   2023-10-19   \n",
       "4        0                1       True  51235365   2023-10-19   \n",
       "5        1                0       True  53172716   2023-10-19   \n",
       "\n",
       "             listing_hashId        mc  ToOptimize  Optimized_Price  \n",
       "0  63b8d8a3743bd2fd6c76658c  6.612567           1       432.216193  \n",
       "4  62b0d382b18efee00cd47374  6.612567           0         0.000000  \n",
       "5  62b0d629b18efee00cd477c4  6.612567           0         0.000000  "
      ]
     },
     "execution_count": 33,
     "metadata": {},
     "output_type": "execute_result"
    }
   ],
   "source": [
    "optim"
   ]
  }
 ],
 "metadata": {
  "kernelspec": {
   "display_name": "Python 3 (ipykernel)",
   "language": "python",
   "name": "python3"
  },
  "language_info": {
   "codemirror_mode": {
    "name": "ipython",
    "version": 3
   },
   "file_extension": ".py",
   "mimetype": "text/x-python",
   "name": "python",
   "nbconvert_exporter": "python",
   "pygments_lexer": "ipython3",
   "version": "3.11.3"
  }
 },
 "nbformat": 4,
 "nbformat_minor": 5
}
